{
 "cells": [
  {
   "cell_type": "code",
   "execution_count": 27,
   "id": "51e06542",
   "metadata": {},
   "outputs": [],
   "source": [
    "from dotenv import load_dotenv\n",
    "import os\n",
    "load_dotenv()\n",
    "api_key = os.getenv(\"GEMINI_API_KEY\")"
   ]
  },
  {
   "cell_type": "code",
   "execution_count": 28,
   "id": "4e17ed89",
   "metadata": {},
   "outputs": [],
   "source": [
    "from llama_index.embeddings.huggingface import HuggingFaceEmbedding\n",
    "from llama_index.core import Settings"
   ]
  },
  {
   "cell_type": "code",
   "execution_count": 26,
   "id": "f1bfd055",
   "metadata": {},
   "outputs": [],
   "source": [
    "from llama_index.llms.google_genai import GoogleGenAI"
   ]
  },
  {
   "cell_type": "code",
   "execution_count": 47,
   "id": "79ca18fe",
   "metadata": {},
   "outputs": [],
   "source": [
    "from llama_index.embeddings.google_genai import GoogleGenAIEmbedding\n"
   ]
  },
  {
   "cell_type": "code",
   "execution_count": 48,
   "id": "e753141c",
   "metadata": {},
   "outputs": [],
   "source": [
    "embed_model = GoogleGenAIEmbedding(\n",
    "    model_name=\"text-embedding-004\",\n",
    "    embed_batch_size=100,\n",
    "    api_key=api_key\n",
    ")\n"
   ]
  },
  {
   "cell_type": "code",
   "execution_count": 55,
   "id": "da3dc146",
   "metadata": {},
   "outputs": [
    {
     "name": "stderr",
     "output_type": "stream",
     "text": [
      "2025-09-09 12:14:38,956 - INFO - HTTP Request: GET https://generativelanguage.googleapis.com/v1beta/models/gemini-2.5-pro \"HTTP/1.1 200 OK\"\n"
     ]
    }
   ],
   "source": [
    "Settings.llm = GoogleGenAI(model=\"models/gemini-2.5-pro\", api_key=api_key)"
   ]
  },
  {
   "cell_type": "code",
   "execution_count": 56,
   "id": "9c5f4120",
   "metadata": {},
   "outputs": [],
   "source": [
    "from llama_index.core import Document, VectorStoreIndex, SimpleDirectoryReader"
   ]
  },
  {
   "cell_type": "code",
   "execution_count": 57,
   "id": "5dcae6a2",
   "metadata": {},
   "outputs": [],
   "source": [
    "documents = SimpleDirectoryReader(\"./data\").load_data()\n"
   ]
  },
  {
   "cell_type": "code",
   "execution_count": 58,
   "id": "5c4b4758",
   "metadata": {},
   "outputs": [],
   "source": [
    "index = VectorStoreIndex.from_documents(documents)"
   ]
  },
  {
   "cell_type": "code",
   "execution_count": 59,
   "id": "91855f3a",
   "metadata": {},
   "outputs": [],
   "source": [
    "query_engine = index.as_query_engine()"
   ]
  },
  {
   "cell_type": "code",
   "execution_count": 60,
   "id": "7e135a45",
   "metadata": {},
   "outputs": [
    {
     "name": "stderr",
     "output_type": "stream",
     "text": [
      "2025-09-09 12:15:09,521 - INFO - AFC is enabled with max remote calls: 10.\n",
      "2025-09-09 12:15:19,679 - INFO - HTTP Request: POST https://generativelanguage.googleapis.com/v1beta/models/gemini-2.5-pro:generateContent \"HTTP/1.1 200 OK\"\n",
      "2025-09-09 12:15:19,682 - INFO - AFC remote call 1 is done.\n"
     ]
    },
    {
     "name": "stdout",
     "output_type": "stream",
     "text": [
      "Based on the provided information, the Metrized Symbol Counter uses the following technologies:\n",
      "\n",
      "*   **Frontend:** React and Next.js\n",
      "*   **Backend:** FastAPI\n",
      "*   **Authentication:** Supabase, for handling logins, signups, and JWT token validation.\n",
      "*   **Billing and Subscriptions:** Stripe, which is used for its API, subscription checkout pages, and webhook handling.\n",
      "*   **Machine Learning and Computer Vision:**\n",
      "    *   YOLO (You Only Look Once) models, including versions v5, v8, and v10.\n",
      "    *   Pre-trained MobileNetV4 vision models.\n",
      "    *   Leiden community detection algorithms.\n",
      "    *   Template matching using cross-correlation.\n",
      "    *   OCR for detecting text elements.\n",
      "    *   Synthetic data augmentation.\n"
     ]
    }
   ],
   "source": [
    "response = query_engine.query(\"What technologies does Metrized Symbol Counter use\")\n",
    "print(response)"
   ]
  }
 ],
 "metadata": {
  "kernelspec": {
   "display_name": "venv (3.10.18)",
   "language": "python",
   "name": "python3"
  },
  "language_info": {
   "codemirror_mode": {
    "name": "ipython",
    "version": 3
   },
   "file_extension": ".py",
   "mimetype": "text/x-python",
   "name": "python",
   "nbconvert_exporter": "python",
   "pygments_lexer": "ipython3",
   "version": "3.10.18"
  }
 },
 "nbformat": 4,
 "nbformat_minor": 5
}
